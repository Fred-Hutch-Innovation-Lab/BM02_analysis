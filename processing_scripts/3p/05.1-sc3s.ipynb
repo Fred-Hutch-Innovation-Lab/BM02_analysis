{
 "cells": [
  {
   "cell_type": "code",
   "execution_count": 3,
   "id": "3602dc59-754f-4aff-8c4c-e771c5955e19",
   "metadata": {},
   "outputs": [],
   "source": [
    "import scanpy as sc\n",
    "import sc3s\n",
    "from pyprojroot import here"
   ]
  },
  {
   "cell_type": "code",
   "execution_count": 4,
   "id": "5f0cc17e-ed20-4073-a8f9-73baf0ca0300",
   "metadata": {},
   "outputs": [
    {
     "data": {
      "text/plain": [
       "PosixPath('/home/dgratz/workspace')"
      ]
     },
     "execution_count": 4,
     "metadata": {},
     "output_type": "execute_result"
    }
   ],
   "source": [
    "here()"
   ]
  },
  {
   "cell_type": "code",
   "execution_count": 9,
   "id": "0d02d9c8-9289-4789-8ebd-c1b599591754",
   "metadata": {},
   "outputs": [],
   "source": [
    "adata = sc.read_h5ad(here('rds/3p/sc3_anndata/Flex.h5ad'))"
   ]
  },
  {
   "cell_type": "code",
   "execution_count": 10,
   "id": "bc16cf73-bc5b-407f-afd9-35be5a65d149",
   "metadata": {},
   "outputs": [
    {
     "data": {
      "text/plain": [
       "AnnData object with n_obs × n_vars = 35739 × 2557\n",
       "    obs: 'orig.ident', 'nCount_RNA', 'nFeature_RNA', 'log10GenesPerUMI', 'mtRatio', 'rbRatio', 'scDblFinder.score', 'scDblFinder.class', 'global_filter', 'res_1.0_clusters', 'seurat_clusters', 'Novershtern.main.labels', 'Novershtern.main.pruned.labels', 'Novershtern.main.delta.next', 'HPCA.main.labels', 'HPCA.main.pruned.labels', 'HPCA.main.delta.next', 'Mona.main.labels', 'Mona.main.pruned.labels', 'Mona.main.delta.next', 'predicted.pbmc3k_seurat_annotations.score', 'predicted.pbmc3k_seurat_annotations', 'predicted.pbmcsca_seurat_annotations.score', 'predicted.pbmcsca_seurat_annotations', 'renamed.predicted.pbmcsca_seurat_annotations', 'renamed.predicted.pbmc3k_seurat_annotations', 'renamed.Mona.main.labels', 'renamed.Novershtern.main.labels', 'renamed.HPCA.main.labels'\n",
       "    var: 'vf_vst_counts.Flex_F1A_mean', 'vf_vst_counts.Flex_F1A_variance', 'vf_vst_counts.Flex_F1A_variance.expected', 'vf_vst_counts.Flex_F1A_variance.standardized', 'vf_vst_counts.Flex_F1A_variable', 'vf_vst_counts.Flex_F1A_rank', 'var.features', 'var.features.rank', 'vf_vst_counts.Flex_F1B_mean', 'vf_vst_counts.Flex_F1B_variance', 'vf_vst_counts.Flex_F1B_variance.expected', 'vf_vst_counts.Flex_F1B_variance.standardized', 'vf_vst_counts.Flex_F1B_variable', 'vf_vst_counts.Flex_F1B_rank', 'vf_vst_counts.Flex_F5A_mean', 'vf_vst_counts.Flex_F5A_variance', 'vf_vst_counts.Flex_F5A_variance.expected', 'vf_vst_counts.Flex_F5A_variance.standardized', 'vf_vst_counts.Flex_F5A_variable', 'vf_vst_counts.Flex_F5A_rank', 'vf_vst_counts.Flex_F5B_mean', 'vf_vst_counts.Flex_F5B_variance', 'vf_vst_counts.Flex_F5B_variance.expected', 'vf_vst_counts.Flex_F5B_variance.standardized', 'vf_vst_counts.Flex_F5B_variable', 'vf_vst_counts.Flex_F5B_rank'\n",
       "    obsm: 'X_PCA_allgenes'\n",
       "    varm: 'PCA_ALLGENES'"
      ]
     },
     "execution_count": 10,
     "metadata": {},
     "output_type": "execute_result"
    }
   ],
   "source": [
    "adata"
   ]
  },
  {
   "cell_type": "code",
   "execution_count": 13,
   "id": "97d16d7e-f246-4836-b537-1ced58e12edc",
   "metadata": {},
   "outputs": [],
   "source": [
    "# remove lowly expressed genes\n",
    "# sc.pp.filter_genes(adata, min_cells=10)\n",
    "\n",
    "# # log transform the data\n",
    "# sc.pp.log1p(adata)\n",
    "\n",
    "# # dimensionality reduction with PCA\n",
    "# sc.tl.pca(adata, svd_solver='arpack')\n",
    "adata.obsm[\"X_pca\"] = adata.obsm[\"X_PCA_allgenes\"]"
   ]
  },
  {
   "cell_type": "code",
   "execution_count": 24,
   "id": "f68123a6-25c9-49ea-a17a-27c394a10247",
   "metadata": {},
   "outputs": [
    {
     "name": "stderr",
     "output_type": "stream",
     "text": [
      "INFO:root:multiplier_facility not set, using default value of 3...\n",
      "INFO:root:number of facilities calculated as 87\n",
      "INFO:root:original binary matrix shape: (35739, 25)\n",
      "INFO:root:original binary matrix shape: (35739, 30)\n",
      "INFO:root:original binary matrix shape: (35739, 35)\n",
      "INFO:root:original binary matrix shape: (35739, 40)\n",
      "INFO:root:original binary matrix shape: (35739, 45)\n",
      "INFO:root:original binary matrix shape: (35739, 50)\n",
      "INFO:root:original binary matrix shape: (35739, 55)\n",
      "INFO:root:original binary matrix shape: (35739, 60)\n",
      "INFO:root:original binary matrix shape: (35739, 65)\n",
      "INFO:root:original binary matrix shape: (35739, 70)\n",
      "INFO:root:original binary matrix shape: (35739, 75)\n",
      "INFO:root:original binary matrix shape: (35739, 80)\n",
      "INFO:root:original binary matrix shape: (35739, 85)\n",
      "INFO:root:original binary matrix shape: (35739, 90)\n",
      "INFO:root:original binary matrix shape: (35739, 95)\n",
      "INFO:root:original binary matrix shape: (35739, 100)\n",
      "INFO:root:original binary matrix shape: (35739, 105)\n",
      "INFO:root:original binary matrix shape: (35739, 110)\n",
      "INFO:root:original binary matrix shape: (35739, 115)\n",
      "INFO:root:original binary matrix shape: (35739, 120)\n",
      "INFO:root:original binary matrix shape: (35739, 125)\n",
      "INFO:root:original binary matrix shape: (35739, 130)\n",
      "INFO:root:original binary matrix shape: (35739, 135)\n",
      "INFO:root:original binary matrix shape: (35739, 140)\n",
      "INFO:root:original binary matrix shape: (35739, 145)\n"
     ]
    },
    {
     "data": {
      "text/plain": [
       "AnnData object with n_obs × n_vars = 35739 × 2557\n",
       "    obs: 'orig.ident', 'nCount_RNA', 'nFeature_RNA', 'log10GenesPerUMI', 'mtRatio', 'rbRatio', 'scDblFinder.score', 'scDblFinder.class', 'global_filter', 'res_1.0_clusters', 'seurat_clusters', 'Novershtern.main.labels', 'Novershtern.main.pruned.labels', 'Novershtern.main.delta.next', 'HPCA.main.labels', 'HPCA.main.pruned.labels', 'HPCA.main.delta.next', 'Mona.main.labels', 'Mona.main.pruned.labels', 'Mona.main.delta.next', 'predicted.pbmc3k_seurat_annotations.score', 'predicted.pbmc3k_seurat_annotations', 'predicted.pbmcsca_seurat_annotations.score', 'predicted.pbmcsca_seurat_annotations', 'renamed.predicted.pbmcsca_seurat_annotations', 'renamed.predicted.pbmc3k_seurat_annotations', 'renamed.Mona.main.labels', 'renamed.Novershtern.main.labels', 'renamed.HPCA.main.labels', 'sc3s_4', 'sc3s_5', 'sc3s_6', 'sc3s_7', 'sc3s_8', 'sc3s_9', 'sc3s_10', 'sc3s_11', 'sc3s_12', 'sc3s_13', 'sc3s_14', 'sc3s_15', 'sc3s_16', 'sc3s_17', 'sc3s_18', 'sc3s_19', 'sc3s_20', 'sc3s_21', 'sc3s_22', 'sc3s_23', 'sc3s_24', 'sc3s_25', 'sc3s_26', 'sc3s_27', 'sc3s_28', 'sc3s_29'\n",
       "    var: 'vf_vst_counts.Flex_F1A_mean', 'vf_vst_counts.Flex_F1A_variance', 'vf_vst_counts.Flex_F1A_variance.expected', 'vf_vst_counts.Flex_F1A_variance.standardized', 'vf_vst_counts.Flex_F1A_variable', 'vf_vst_counts.Flex_F1A_rank', 'var.features', 'var.features.rank', 'vf_vst_counts.Flex_F1B_mean', 'vf_vst_counts.Flex_F1B_variance', 'vf_vst_counts.Flex_F1B_variance.expected', 'vf_vst_counts.Flex_F1B_variance.standardized', 'vf_vst_counts.Flex_F1B_variable', 'vf_vst_counts.Flex_F1B_rank', 'vf_vst_counts.Flex_F5A_mean', 'vf_vst_counts.Flex_F5A_variance', 'vf_vst_counts.Flex_F5A_variance.expected', 'vf_vst_counts.Flex_F5A_variance.standardized', 'vf_vst_counts.Flex_F5A_variable', 'vf_vst_counts.Flex_F5A_rank', 'vf_vst_counts.Flex_F5B_mean', 'vf_vst_counts.Flex_F5B_variance', 'vf_vst_counts.Flex_F5B_variance.expected', 'vf_vst_counts.Flex_F5B_variance.standardized', 'vf_vst_counts.Flex_F5B_variable', 'vf_vst_counts.Flex_F5B_rank'\n",
       "    uns: 'sc3s_trials'\n",
       "    obsm: 'X_PCA_allgenes', 'X_pca'\n",
       "    varm: 'PCA_ALLGENES'"
      ]
     },
     "execution_count": 24,
     "metadata": {},
     "output_type": "execute_result"
    }
   ],
   "source": [
    "\n",
    "sc3s.tl.consensus(adata, n_clusters=list(range(5,30,1)))"
   ]
  },
  {
   "cell_type": "code",
   "execution_count": 27,
   "id": "0c725652-6e44-42c7-acde-500c935dc30f",
   "metadata": {},
   "outputs": [
    {
     "data": {
      "text/plain": [
       "Flex_F1A_AAACAAGCAAAGCTCAACTTTAGG-1     4\n",
       "Flex_F1A_AAACAAGCAGGCTATAACTTTAGG-1     1\n",
       "Flex_F1A_AAACAAGCATTGACTCACTTTAGG-1    10\n",
       "Flex_F1A_AAACCAATCAAGGTGTACTTTAGG-1     9\n",
       "Flex_F1A_AAACCAATCAATCGCCACTTTAGG-1     1\n",
       "                                       ..\n",
       "Flex_F5B_TTTGGACGTAATTTCGATGTTGAC-1    11\n",
       "Flex_F5B_TTTGGACGTCCACAATATGTTGAC-1    15\n",
       "Flex_F5B_TTTGGCGGTTAGAGGCATGTTGAC-1     7\n",
       "Flex_F5B_TTTGTGAGTGGAAGCTATGTTGAC-1    21\n",
       "Flex_F5B_TTTGTGAGTTGTGACTATGTTGAC-1    21\n",
       "Name: sc3s_28, Length: 35739, dtype: category\n",
       "Categories (27, int64): [0, 1, 2, 3, ..., 24, 25, 26, 27]"
      ]
     },
     "execution_count": 27,
     "metadata": {},
     "output_type": "execute_result"
    }
   ],
   "source": [
    "adata.obs['sc3s_28']   # returns the cluster labels"
   ]
  }
 ],
 "metadata": {
  "kernelspec": {
   "display_name": "Python 3",
   "language": "python",
   "name": "python3"
  },
  "language_info": {
   "codemirror_mode": {
    "name": "ipython",
    "version": 3
   },
   "file_extension": ".py",
   "mimetype": "text/x-python",
   "name": "python",
   "nbconvert_exporter": "python",
   "pygments_lexer": "ipython3",
   "version": "3.6.9"
  }
 },
 "nbformat": 4,
 "nbformat_minor": 5
}
